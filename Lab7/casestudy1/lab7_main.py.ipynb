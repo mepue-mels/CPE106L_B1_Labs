{
 "cells": [
  {
   "cell_type": "code",
   "execution_count": 4,
   "id": "25722468",
   "metadata": {},
   "outputs": [
    {
     "name": "stdout",
     "output_type": "stream",
     "text": [
      "Index(['MIN', 'FG', 'FG%', '3PT', '3P%', 'FT', 'FT%', 'REB', 'AST', 'BLK',\n",
      "       'STL', 'PF', 'TO', 'PTS'],\n",
      "      dtype='object')\n"
     ]
    }
   ],
   "source": [
    "import pandas as pd\n",
    "from hoopstatsview import HoopStatsView\n",
    "\n",
    "def cleanStats(df):\n",
    "    # Check the column names in the DataFrame\n",
    "    print(df.columns)\n",
    "\n",
    "    # Remove the original columns\n",
    "    df = df.drop(['FG', '3PT', 'FT'], axis=1, errors='ignore')\n",
    "\n",
    "    # Create new columns for makes and attempts\n",
    "    for col in ['FG', '3PT', 'FT']:\n",
    "        if col in df.columns:\n",
    "            makes, attempts = df[col].str.split('-', 1, expand=True).astype(int).T\n",
    "            df[f\"{col}M\"] = makes\n",
    "            df[f\"{col}A\"] = attempts\n",
    "\n",
    "    return df\n",
    "\n",
    "def main():\n",
    "    frame = pd.read_csv(\"rawbrogdonstats.csv\")\n",
    "    frame = cleanStats(frame)\n",
    "    HoopStatsView(frame)\n",
    "\n",
    "if __name__ == \"__main__\":\n",
    "    main()"
   ]
  },
  {
   "cell_type": "code",
   "execution_count": null,
   "id": "9027c718",
   "metadata": {},
   "outputs": [],
   "source": []
  }
 ],
 "metadata": {
  "kernelspec": {
   "display_name": "Python 3 (ipykernel)",
   "language": "python",
   "name": "python3"
  },
  "language_info": {
   "codemirror_mode": {
    "name": "ipython",
    "version": 3
   },
   "file_extension": ".py",
   "mimetype": "text/x-python",
   "name": "python",
   "nbconvert_exporter": "python",
   "pygments_lexer": "ipython3",
   "version": "3.11.7"
  }
 },
 "nbformat": 4,
 "nbformat_minor": 5
}
